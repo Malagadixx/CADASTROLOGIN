{
  "nbformat": 4,
  "nbformat_minor": 0,
  "metadata": {
    "colab": {
      "provenance": [],
      "authorship_tag": "ABX9TyNSzkLhiB3vFwmE0vMxkopc",
      "include_colab_link": true
    },
    "kernelspec": {
      "name": "python3",
      "display_name": "Python 3"
    },
    "language_info": {
      "name": "python"
    }
  },
  "cells": [
    {
      "cell_type": "markdown",
      "metadata": {
        "id": "view-in-github",
        "colab_type": "text"
      },
      "source": [
        "<a href=\"https://colab.research.google.com/github/Malagadixx/CADASTROLOGIN/blob/main/Tela_login.ipynb\" target=\"_parent\"><img src=\"https://colab.research.google.com/assets/colab-badge.svg\" alt=\"Open In Colab\"/></a>"
      ]
    },
    {
      "cell_type": "code",
      "execution_count": null,
      "metadata": {
        "id": "nMPWSDCCtEVc"
      },
      "outputs": [],
      "source": [
        "class Usuario:\n",
        "    def __init__(self, nome, email, senha):\n",
        "        self.nome = nome\n",
        "        self.email = email\n",
        "        self.senha = senha\n",
        "\n",
        "class SistemaCadastro/Login:\n",
        "    def __init__(self):\n",
        "        self.usuarios = []\n",
        "\n",
        "    def cadastrar(self):\n",
        "        print('Cadastro de Usuário')\n",
        "        nome = input('Digite o nome: ')\n",
        "        email = input('Digite o e-mail: ')\n",
        "        senha = input('Digite a senha: ')\n",
        "        usuario = Usuario(nome, email, senha)\n",
        "        self.usuarios.append(usuario)\n",
        "        print('Usuário cadastrado com sucesso!')\n",
        "\n",
        "    def fazer_login(self):\n",
        "        print('Login')\n",
        "        email = input('Digite o e-mail: ')\n",
        "        senha = input('Digite a senha: ')\n",
        "\n",
        "        for usuario in self.usuarios:\n",
        "            if usuario.email == email and usuario.senha == senha:\n",
        "                print('Login bem-sucedido!')\n",
        "                return\n",
        "\n",
        "        print('Credenciais inválidas. Por favor, tente novamente.')\n",
        "\n",
        "sistema = SistemaCadastro/Login()\n",
        "\n",
        "while True:\n",
        "    print('1. Cadastrar novo usuário')\n",
        "    print('2. Fazer login')\n",
        "    print('3. Sair')\n",
        "\n",
        "    opcao = input('Escolha uma opção: ')\n",
        "\n",
        "    if opcao == '1':\n",
        "        sistema.cadastrar()\n",
        "    elif opcao == '2':\n",
        "        sistema.fazer_login()\n",
        "    elif opcao == '3':\n",
        "        break\n",
        "    else:\n",
        "        print('Opção inválida. Por favor, escolha novamente.')"
      ]
    }
  ]
}