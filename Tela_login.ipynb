{
  "nbformat": 4,
  "nbformat_minor": 0,
  "metadata": {
    "colab": {
      "provenance": [],
      "authorship_tag": "ABX9TyN/BE/Wv9QngQ4DBNIqexrr",
      "include_colab_link": true
    },
    "kernelspec": {
      "name": "python3",
      "display_name": "Python 3"
    },
    "language_info": {
      "name": "python"
    }
  },
  "cells": [
    {
      "cell_type": "markdown",
      "metadata": {
        "id": "view-in-github",
        "colab_type": "text"
      },
      "source": [
        "<a href=\"https://colab.research.google.com/github/Malagadixx/CADASTROLOGIN/blob/main/Tela_login.ipynb\" target=\"_parent\"><img src=\"https://colab.research.google.com/assets/colab-badge.svg\" alt=\"Open In Colab\"/></a>"
      ]
    },
    {
      "cell_type": "code",
      "source": [
        "class Usuario:\n",
        "    def __init__(self, nome, email, senha):\n",
        "        self.nome = nome\n",
        "        self.email = email\n",
        "        self.senha = senha\n",
        "\n",
        "class SistemaCadastroLogin:\n",
        "    def __init__(self):\n",
        "        self.usuarios = []\n",
        "\n",
        "    def cadastrar(self):\n",
        "        print('Cadastro de Usuário')\n",
        "        nome = input(\"Digite o nome: \")\n",
        "        email = input(\"Digite o e-mail: \")\n",
        "        senha = input(\"Digite a senha: \")\n",
        "        usuario = Usuario(nome, email, senha)\n",
        "        self.usuarios.append(usuario)\n",
        "        self.adicionar_usuario_arquivo(usuario, \"usuarios.txt\")\n",
        "        print('Usuário cadastrado com sucesso!')\n",
        "\n",
        "    def fazer_login(self):\n",
        "        print('Login')\n",
        "        email = input('Digite o e-mail: ')\n",
        "        senha = input('Digite a senha: ')\n",
        "\n",
        "        for usuario in self.usuarios:\n",
        "            if usuario.email == email and usuario.senha == senha:\n",
        "                print('Login bem-sucedido!')\n",
        "                return\n",
        "\n",
        "        print('Credenciais inválidas. Por favor, tente novamente.')\n",
        "\n",
        "    def adicionar_usuario_arquivo(self, usuario, nome_arquivo):\n",
        "        with open(nome_arquivo, 'a') as arquivo:\n",
        "            linha = f\"{usuario.nome},{usuario.email},{usuario.senha}\\n\"\n",
        "            arquivo.write(linha)\n",
        "            print('Usuário adicionado ao arquivo com sucesso!')\n",
        "\n",
        "    def salvar_usuarios(self, nome_arquivo):\n",
        "        with open(nome_arquivo, 'w') as arquivo:\n",
        "            for usuario in self.usuarios:\n",
        "                linha = f\"{usuario.nome},{usuario.email},{usuario.senha}\\n\"\n",
        "                arquivo.write(linha)\n",
        "\n",
        "    def carregar_usuarios(self, nome_arquivo):\n",
        "        self.usuarios = []\n",
        "        with open(nome_arquivo, 'r') as arquivo:\n",
        "            for linha in arquivo:\n",
        "                nome, email, senha = linha.strip().split(',')\n",
        "                usuario = Usuario(nome, email, senha)\n",
        "                self.usuarios.append(usuario)\n",
        "\n",
        "sistema = SistemaCadastroLogin()\n",
        "\n",
        "while True:\n",
        "    print('1. Cadastrar novo usuário')\n",
        "    print('2. Fazer login')\n",
        "    print('3. Sair')\n",
        "\n",
        "    opcao = input('Escolha uma opção: ')\n",
        "\n",
        "    if opcao == '1':\n",
        "        sistema.cadastrar()\n",
        "    elif opcao == '2':\n",
        "        sistema.fazer_login()\n",
        "    elif opcao == '3':\n",
        "        nome_arquivo = input('Digite o nome do arquivo para salvar os usuários: ')\n",
        "        sistema.salvar_usuarios(nome_arquivo)\n",
        "        break\n",
        "    else:\n",
        "        print('Opção inválida. Por favor, escolha novamente.')\n"
      ],
      "metadata": {
        "id": "KnOTeBEwLRy-"
      },
      "execution_count": null,
      "outputs": []
    },
    {
      "cell_type": "code",
      "source": [],
      "metadata": {
        "id": "JI8rn6G1P2jp"
      },
      "execution_count": null,
      "outputs": []
    }
  ]
}