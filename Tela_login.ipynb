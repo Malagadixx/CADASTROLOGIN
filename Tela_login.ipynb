{
  "nbformat": 4,
  "nbformat_minor": 0,
  "metadata": {
    "colab": {
      "provenance": [],
      "authorship_tag": "ABX9TyM/ZjoXfelLehNFbPmrYcPZ",
      "include_colab_link": true
    },
    "kernelspec": {
      "name": "python3",
      "display_name": "Python 3"
    },
    "language_info": {
      "name": "python"
    }
  },
  "cells": [
    {
      "cell_type": "markdown",
      "metadata": {
        "id": "view-in-github",
        "colab_type": "text"
      },
      "source": [
        "<a href=\"https://colab.research.google.com/github/Malagadixx/CADASTROLOGIN/blob/main/Tela_login.ipynb\" target=\"_parent\"><img src=\"https://colab.research.google.com/assets/colab-badge.svg\" alt=\"Open In Colab\"/></a>"
      ]
    },
    {
      "cell_type": "code",
      "source": [
        "class Usuario:\n",
        "    def cadastrar(self):\n",
        "        print('Cadastro de Usuário')\n",
        "        self.nome = input('Digite o nome: ')\n",
        "        self.email = input('Digite o e-mail: ')\n",
        "        self.senha = input('Digite a senha: ')\n",
        "        print('Usuário cadastrado com sucesso!')\n",
        "\n",
        "    def fazer_login(self):\n",
        "        print('Login')\n",
        "        email = input('Digite o e-mail: ')\n",
        "        senha = input('Digite a senha: ')\n",
        "\n",
        "        if self.email == email and self.senha == senha:\n",
        "            print('Login bem-sucedido!')\n",
        "        else:\n",
        "            print('Credenciais inválidas. Por favor, tente novamente.')\n",
        "\n",
        "sistema = Usuario()\n",
        "\n",
        "while True:\n",
        "    print('1. Cadastrar novo usuário')\n",
        "    print('2. Fazer login')\n",
        "    print('3. Sair')\n",
        "\n",
        "    opcao = input('Escolha uma opção: ')\n",
        "\n",
        "    if opcao == '1':\n",
        "        sistema.cadastrar()\n",
        "    elif opcao == '2':\n",
        "        sistema.fazer_login()\n",
        "    elif opcao == '3':\n",
        "        break\n",
        "    else:\n",
        "        print('Opção inválida. Por favor, escolha novamente.')"
      ],
      "metadata": {
        "colab": {
          "base_uri": "https://localhost:8080/"
        },
        "id": "zgqMF0Es7CN_",
        "outputId": "433afc44-c022-4948-f467-204183be9f61"
      },
      "execution_count": null,
      "outputs": [
        {
          "output_type": "stream",
          "name": "stdout",
          "text": [
            "1. Cadastrar novo usuário\n",
            "2. Fazer login\n",
            "3. Sair\n"
          ]
        }
      ]
    }
  ]
}